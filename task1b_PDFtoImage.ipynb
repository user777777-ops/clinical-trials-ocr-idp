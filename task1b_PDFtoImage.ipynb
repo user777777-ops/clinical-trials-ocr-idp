{
 "cells": [
  {
   "cell_type": "markdown",
   "id": "80785108",
   "metadata": {},
   "source": [
    "# Task 1b: Turning a pdf into an image. \n",
    "\n",
    "**We will aim for a 300 x 300 DPI**"
   ]
  },
  {
   "cell_type": "markdown",
   "id": "9c54fe71",
   "metadata": {},
   "source": [
    "\n",
    "\n",
    "| Library          | Installation          | Key Features                          | Best For                          |\n",
    "|------------------|-----------------------|---------------------------------------|-----------------------------------|\n",
    "| **PyMuPDF (fitz)** | `pip install pymupdf` | - Fastest conversion<br>- Low memory<br>- Multi-page support | Batch processing, high-performance apps |\n",
    "| **pdf2image**    | `pip install pdf2image`<br>(+ `poppler-utils`) | - Pillow-compatible<br>- Simple API<br>- Multi-threaded | Quick conversions, Pillow workflows |\n",
    "| **Wand**         | `pip install wand`<br>(+ `imagemagick`) | - High-quality rendering<br>- Supports PDF transparency/vectors | Complex PDFs, print-quality output |\n",
    "| **pdfium**       | `pip install pdfium`  | - Chrome’s PDF engine<br>- Pixel-perfect rendering | Web apps, fidelity-critical cases |\n"
   ]
  },
  {
   "cell_type": "markdown",
   "id": "4c4c066f",
   "metadata": {},
   "source": [
    "We use the profiler functions native to python and will later on run a scalene report on the effectivity of each. \n",
    "\n",
    "I will store the resulting images in the folder [task1b_images](./task1b_images/)"
   ]
  },
  {
   "cell_type": "code",
   "execution_count": 1,
   "id": "a2f7fda8",
   "metadata": {},
   "outputs": [
    {
     "name": "stdout",
     "output_type": "stream",
     "text": [
      "Requirement already satisfied: python-dotenv in ./.venv/lib/python3.13/site-packages (1.1.0)\n",
      "Note: you may need to restart the kernel to use updated packages.\n"
     ]
    },
    {
     "data": {
      "text/plain": [
       "True"
      ]
     },
     "execution_count": 1,
     "metadata": {},
     "output_type": "execute_result"
    }
   ],
   "source": [
    "%pip install python-dotenv\n",
    "from dotenv import load_dotenv\n",
    "load_dotenv()"
   ]
  },
  {
   "cell_type": "code",
   "execution_count": 2,
   "id": "f7fda9c9",
   "metadata": {},
   "outputs": [],
   "source": [
    "image_conversion_stats = []"
   ]
  },
  {
   "cell_type": "markdown",
   "id": "bd6c404d",
   "metadata": {},
   "source": [
    "## Conversion Method 1: pdf2Image. \n"
   ]
  },
  {
   "cell_type": "code",
   "execution_count": 3,
   "id": "a23fbb79",
   "metadata": {},
   "outputs": [
    {
     "name": "stdout",
     "output_type": "stream",
     "text": [
      "Requirement already satisfied: pdf2image in ./.venv/lib/python3.13/site-packages (1.17.0)\n",
      "Requirement already satisfied: pillow in ./.venv/lib/python3.13/site-packages (from pdf2image) (11.2.1)\n",
      "Note: you may need to restart the kernel to use updated packages.\n",
      "Requirement already satisfied: opencv-python in ./.venv/lib/python3.13/site-packages (4.11.0.86)\n",
      "Requirement already satisfied: numpy>=1.21.2 in ./.venv/lib/python3.13/site-packages (from opencv-python) (2.3.0)\n",
      "Note: you may need to restart the kernel to use updated packages.\n",
      "Requirement already satisfied: python-dotenv in ./.venv/lib/python3.13/site-packages (1.1.0)\n",
      "Note: you may need to restart the kernel to use updated packages.\n"
     ]
    }
   ],
   "source": [
    "%pip install pdf2image\n",
    "%pip install opencv-python\n",
    "%pip install python-dotenv"
   ]
  },
  {
   "cell_type": "code",
   "execution_count": 4,
   "id": "444bb6ab",
   "metadata": {},
   "outputs": [
    {
     "name": "stdout",
     "output_type": "stream",
     "text": [
      "/home//Documents/clinical-trials-ocr-idp/highlighted_output.pdf\n",
      "Saved denoised output_page_1.png\n",
      "Saved denoised output_page_2.png\n",
      "Saved denoised output_page_3.png\n",
      "Saved denoised output_page_4.png\n",
      "Saved denoised output_page_5.png\n"
     ]
    }
   ],
   "source": [
    "###                                   TRACKING                                     ###\n",
    "import time\n",
    "import psutil\n",
    "import os\n",
    "\n",
    "process = psutil.Process(os.getpid())\n",
    "_ = process.cpu_percent(interval=None)  # Reset CPU counter\n",
    "mem_before = process.memory_info().rss\n",
    "start_time = time.time()\n",
    "\n",
    "###                                   TRACKING END                                 ###\n",
    "from dotenv import load_dotenv\n",
    "load_dotenv()\n",
    "from pdf2image import convert_from_path\n",
    "import cv2\n",
    "import numpy as np\n",
    "from PIL import Image\n",
    "\n",
    "filePath = os.environ.get(\"filePath\")\n",
    "\n",
    "print(filePath)\n",
    "images = convert_from_path(filePath, dpi=300)\n",
    "\n",
    "for i, image in enumerate(images):\n",
    "    # Convert PIL image to OpenCV format\n",
    "    cv_img = np.array(image)\n",
    "    cv_img = cv2.cvtColor(cv_img, cv2.COLOR_RGB2GRAY)\n",
    "\n",
    "    # Apply GaussianBlur to reduce noise\n",
    "    denoised_img = cv2.GaussianBlur(cv_img, (5, 5), 0)\n",
    "\n",
    "    # Convert back to PIL format\n",
    "    pil_img = Image.fromarray(denoised_img)\n",
    "\n",
    "    # Save the denoised image\n",
    "    pil_img.save(os.path.join(\"task1b_images/\", f'pdf2image_denoised_page_{i + 1}.png'), 'PNG')\n",
    "    print(f'Saved denoised output_page_{i + 1}.png')\n",
    "\n",
    "###                                   TRACKING                                     ###\n",
    "\n",
    "# Calculate stats\n",
    "cpu_used = process.cpu_percent(interval=None)\n",
    "memory_MB = process.memory_info().rss-mem_before\n",
    "total_time = time.time() - start_time\n",
    "\n",
    "image_conversion_stats.append( {\n",
    "    \"name\": \"pdf2image\",\n",
    "    \"time\": total_time,\n",
    "    \"num_images\": len(images),\n",
    "    \"memory_MB\": memory_MB / (1024 * 1024),  # Delta in MB\n",
    "    \"cpu_percent\": cpu_used,\n",
    "}\n",
    ")\n",
    "\n",
    "###                                   TRACKING END                                 ###"
   ]
  },
  {
   "cell_type": "markdown",
   "id": "8889a179",
   "metadata": {},
   "source": [
    "[Return to the top](#Task-1b-Turning-a-pdf-into-an-image)"
   ]
  },
  {
   "cell_type": "markdown",
   "id": "e903fb69",
   "metadata": {},
   "source": [
    "## Conversion Method 2: pyMuPDF"
   ]
  },
  {
   "cell_type": "code",
   "execution_count": 5,
   "id": "aab1c2df",
   "metadata": {},
   "outputs": [
    {
     "name": "stdout",
     "output_type": "stream",
     "text": [
      "Requirement already satisfied: PyMuPDF in ./.venv/lib/python3.13/site-packages (1.26.1)\n",
      "Note: you may need to restart the kernel to use updated packages.\n"
     ]
    }
   ],
   "source": [
    "%pip install PyMuPDF"
   ]
  },
  {
   "cell_type": "code",
   "execution_count": 6,
   "id": "eeb249ac",
   "metadata": {},
   "outputs": [],
   "source": [
    "###                                   TRACKING                                     ###\n",
    "import time\n",
    "import psutil\n",
    "import os\n",
    "\n",
    "process = psutil.Process(os.getpid())\n",
    "_ = process.cpu_percent(interval=None)  # Reset CPU counter\n",
    "mem_before = process.memory_info().rss\n",
    "start_time = time.time()\n",
    "\n",
    "###                                   TRACKING END                                 ###\n",
    "import fitz  # PyMuPDF\n",
    "import os\n",
    "from PIL import Image, ImageFilter\n",
    "\n",
    "filePath = os.environ.get(\"filePath\")\n",
    "output_folder = \"task1b_images/\"\n",
    "\n",
    "doc = fitz.open(filePath)\n",
    "\n",
    "# Calculate scale matrix for 300 DPI (72 dpi is default)\n",
    "zoom = 300 / 72  # 4.1667 approx\n",
    "\n",
    "matrix = fitz.Matrix(zoom, zoom)\n",
    "\n",
    "for i in range(len(doc)):\n",
    "    page = doc.load_page(i)\n",
    "    pix = page.get_pixmap(matrix=matrix)\n",
    "    output_path = os.path.join(output_folder, f'PyMuPDF_page_{i + 1}.png')\n",
    "    pix.save(output_path)\n",
    "    \n",
    "    # Convert image to grayscale using PIL and apply denoising\n",
    "    with Image.open(output_path) as im:\n",
    "        grayscale_image = im.convert('L')  # Convert to grayscale\n",
    "        denoised_image = grayscale_image.filter(ImageFilter.GaussianBlur(radius=2))  # Apply Gaussian blur for denoising\n",
    "        denoised_image.save(output_path, dpi=(300, 300))\n",
    "\n",
    "###                                   TRACKING                                     ###\n",
    "\n",
    "# Calculate stats\n",
    "cpu_used = process.cpu_percent(interval=None)\n",
    "memory_MB = process.memory_info().rss-mem_before\n",
    "total_time = time.time() - start_time\n",
    "\n",
    "image_conversion_stats.append( {\n",
    "    \"name\": \"PyMuPDF\",\n",
    "    \"time\": total_time,\n",
    "    \"num_images\": len(doc),\n",
    "    \"memory_MB\": memory_MB / (1024 * 1024),  # Delta in MB\n",
    "    \"cpu_percent\": cpu_used,\n",
    "}\n",
    ")\n",
    "\n",
    "###                                   TRACKING END                                 ###"
   ]
  },
  {
   "cell_type": "markdown",
   "id": "4878fe57",
   "metadata": {},
   "source": [
    "[Return to the top](#Task-1b-Turning-a-pdf-into-an-image)"
   ]
  },
  {
   "cell_type": "markdown",
   "id": "73c7fe6b",
   "metadata": {},
   "source": [
    "## Conversion Method 3: pdfium\n"
   ]
  },
  {
   "cell_type": "code",
   "execution_count": 7,
   "id": "699f2c69",
   "metadata": {},
   "outputs": [
    {
     "name": "stdout",
     "output_type": "stream",
     "text": [
      "Requirement already satisfied: pypdfium2 in ./.venv/lib/python3.13/site-packages (4.30.1)\n",
      "Note: you may need to restart the kernel to use updated packages.\n"
     ]
    }
   ],
   "source": [
    "%pip install pypdfium2"
   ]
  },
  {
   "cell_type": "code",
   "execution_count": 8,
   "id": "bb4b88aa",
   "metadata": {},
   "outputs": [],
   "source": [
    "###                                   TRACKING                                     ###\n",
    "import time\n",
    "import psutil\n",
    "import os\n",
    "\n",
    "process = psutil.Process(os.getpid())\n",
    "_ = process.cpu_percent(interval=None)  # Reset CPU counter\n",
    "mem_before = process.memory_info().rss\n",
    "start_time = time.time()\n",
    "\n",
    "###                                   TRACKING END                                 ###\n",
    "\n",
    "import pypdfium2 as pdfium\n",
    "from PIL import Image\n",
    "\n",
    "# Load a document\n",
    "pdf = pdfium.PdfDocument(os.environ.get(\"filePath\"))\n",
    "\n",
    "# Loop over pages and render\n",
    "for i in range(len(pdf)):\n",
    "    page = pdf[i]\n",
    "    image = page.render(scale=4).to_pil()\n",
    "    # Convert image to black and white\n",
    "    bw_image = image.convert('1')\n",
    "    bw_image.save(os.path.join(\"task1b_images/\", f\"pdfium_image_bw_{i+1:03d}.png\"), format=\"PNG\", dpi=(300, 300))\n",
    "\n",
    "###                                   TRACKING                                     ###\n",
    "\n",
    "# Calculate stats\n",
    "cpu_used = process.cpu_percent(interval=None)\n",
    "memory_MB = process.memory_info().rss-mem_before\n",
    "total_time = time.time() - start_time\n",
    "\n",
    "image_conversion_stats.append( {\n",
    "    \"name\": \"pdfium2\",\n",
    "    \"time\": total_time,\n",
    "    \"num_images\": len(pdf),\n",
    "    \"memory_MB\": memory_MB / (1024 * 1024),  # Delta in MB\n",
    "    \"cpu_percent\": cpu_used,\n",
    "}\n",
    ")\n",
    "\n",
    "###                                   TRACKING END                                 ###"
   ]
  },
  {
   "cell_type": "markdown",
   "id": "e2ab4413",
   "metadata": {},
   "source": [
    "[Return to the top](#Task-1b-Turning-a-pdf-into-an-image)"
   ]
  },
  {
   "cell_type": "markdown",
   "id": "bc5acd5c",
   "metadata": {},
   "source": [
    "## Conversion Method 4: Wand"
   ]
  },
  {
   "cell_type": "code",
   "execution_count": 9,
   "id": "c0b1b13b",
   "metadata": {},
   "outputs": [
    {
     "name": "stdout",
     "output_type": "stream",
     "text": [
      "Collecting wand\n",
      "  Downloading Wand-0.6.13-py2.py3-none-any.whl.metadata (4.0 kB)\n",
      "Downloading Wand-0.6.13-py2.py3-none-any.whl (143 kB)\n",
      "Installing collected packages: wand\n",
      "Successfully installed wand-0.6.13\n",
      "Note: you may need to restart the kernel to use updated packages.\n"
     ]
    }
   ],
   "source": [
    "%pip install wand"
   ]
  },
  {
   "cell_type": "markdown",
   "id": "7266b06e",
   "metadata": {},
   "source": [
    "You also need to install image magick on your system as such: \n",
    "https://docs.wand-py.org/en/latest/guide/install.html\n",
    "\n",
    "**Debian/ubuntu**:\n",
    "```bash\n",
    "sudo apt-get install libmagickwand-dev\n",
    "```\n",
    "**MAC**:\n",
    "```bash\n",
    "brew install imagemagick\n",
    "```\n",
    "**Windows**:\n",
    " \n",
    "use this [link](https://imagemagick.org/script/download.php#windows)\n"
   ]
  },
  {
   "cell_type": "code",
   "execution_count": 12,
   "id": "c3e2a45e",
   "metadata": {},
   "outputs": [
    {
     "name": "stdout",
     "output_type": "stream",
     "text": [
      "Saved: task1b_images/wand_image-1.png\n",
      "Saved: task1b_images/wand_image-2.png\n",
      "Saved: task1b_images/wand_image-3.png\n",
      "Saved: task1b_images/wand_image-4.png\n",
      "Saved: task1b_images/wand_image-5.png\n"
     ]
    }
   ],
   "source": [
    "###                                   TRACKING                                     ###\n",
    "import time\n",
    "import psutil\n",
    "import os\n",
    "\n",
    "process = psutil.Process(os.getpid())\n",
    "_ = process.cpu_percent(interval=None)  # Reset CPU counter\n",
    "mem_before = process.memory_info().rss\n",
    "start_time = time.time()\n",
    "\n",
    "###                                   TRACKING END                                 ###\n",
    "from wand.image import Image\n",
    "from wand.color import Color\n",
    "\n",
    "pdf_path = os.environ.get(\"filePath\")\n",
    "output_folder = \"task1b_images\"\n",
    "output_prefix = \"wand_image\"\n",
    "resolution = 300  # DPI for high quality\n",
    "# Optimize Wand processing by disabling alpha channel removal and compression quality adjustment\n",
    "with Image(filename=pdf_path, resolution=resolution) as pdf:\n",
    "    num_pages = len(pdf.sequence)  # Store the number of pages\n",
    "    for i, page in enumerate(pdf.sequence):\n",
    "        with Image(page) as img:\n",
    "            img.format = 'png'\n",
    "            output_path = os.path.join(output_folder, f\"{output_prefix}-{i + 1}.png\")\n",
    "            img.save(filename=output_path)\n",
    "            print(f\"Saved: {output_path}\")\n",
    "\n",
    "###                                   TRACKING                                     ###\n",
    "\n",
    "\n",
    "# Calculate stats\n",
    "cpu_used = process.cpu_percent(interval=None)\n",
    "memory_MB = process.memory_info().rss-mem_before\n",
    "total_time = time.time() - start_time\n",
    "\n",
    "image_conversion_stats.append( {\n",
    "    \"name\": \"Wand\",\n",
    "    \"time\": total_time,\n",
    "    \"num_images\": num_pages,\n",
    "    \"memory_MB\": memory_MB / (1024 * 1024),  # Delta in MB\n",
    "    \"cpu_percent\": cpu_used,\n",
    "}\n",
    ")\n",
    "\n",
    "###                                   TRACKING END                                 ###"
   ]
  },
  {
   "cell_type": "markdown",
   "id": "b2e32db9",
   "metadata": {},
   "source": [
    "[Return to the top](#Task-1b-Turning-a-pdf-into-an-image)"
   ]
  },
  {
   "cell_type": "markdown",
   "id": "421947ab",
   "metadata": {},
   "source": [
    "## PDF to image method comparison"
   ]
  },
  {
   "cell_type": "markdown",
   "id": "b1b586b2",
   "metadata": {},
   "source": [
    "### Native performance check:"
   ]
  },
  {
   "cell_type": "markdown",
   "id": "552e394a",
   "metadata": {},
   "source": [
    "Great way of measuring time and pictures taken but we shouldn't really trust memory and cpu usage in this method. Scalene is probably better."
   ]
  },
  {
   "cell_type": "code",
   "execution_count": 14,
   "id": "21ccee86",
   "metadata": {},
   "outputs": [
    {
     "name": "stdout",
     "output_type": "stream",
     "text": [
      "Collecting tabulate\n",
      "  Downloading tabulate-0.9.0-py3-none-any.whl.metadata (34 kB)\n",
      "Downloading tabulate-0.9.0-py3-none-any.whl (35 kB)\n",
      "Installing collected packages: tabulate\n",
      "Successfully installed tabulate-0.9.0\n",
      "Note: you may need to restart the kernel to use updated packages.\n"
     ]
    }
   ],
   "source": [
    "%pip install tabulate"
   ]
  },
  {
   "cell_type": "code",
   "execution_count": 15,
   "id": "a8a0a950",
   "metadata": {},
   "outputs": [
    {
     "name": "stdout",
     "output_type": "stream",
     "text": [
      "name          time    num_images    memory_MB    cpu_percent\n",
      "---------  -------  ------------  -----------  -------------\n",
      "pdf2image  1.25702             5     277.648           109.8\n",
      "PyMuPDF    2.54073             5     149.57             99.6\n",
      "pdfium2    0.8929              5      58.0508           65\n",
      "Wand       6.38445             5     664.609            83.8\n"
     ]
    }
   ],
   "source": [
    "from tabulate import tabulate\n",
    "\n",
    "print(tabulate(image_conversion_stats, headers=\"keys\"))\n"
   ]
  },
  {
   "cell_type": "markdown",
   "id": "e4ac2fb7",
   "metadata": {},
   "source": [
    "### Quality check: \n"
   ]
  },
  {
   "cell_type": "code",
   "execution_count": null,
   "id": "fc5a95da",
   "metadata": {},
   "outputs": [
    {
     "name": "stdout",
     "output_type": "stream",
     "text": [
      "+-------------------------+---------+----------+----------------+------------------+--------+------------+\n",
      "| File                    |   Width |   Height |   Total Pixels | Calculated DPI   | Mode   |   Contrast |\n",
      "+=========================+=========+==========+================+==================+========+============+\n",
      "| PyMuPDF_page_1.png      |    2481 |     3508 |        8703348 | 300.00x300.09    | 1      |      56.18 |\n",
      "+-------------------------+---------+----------+----------------+------------------+--------+------------+\n",
      "| PyMuPDF_page_2.png      |    2481 |     3508 |        8703348 | 300.00x300.09    | 1      |      49.75 |\n",
      "+-------------------------+---------+----------+----------------+------------------+--------+------------+\n",
      "| PyMuPDF_page_3.png      |    2481 |     3508 |        8703348 | 300.00x300.09    | 1      |      51.4  |\n",
      "+-------------------------+---------+----------+----------------+------------------+--------+------------+\n",
      "| PyMuPDF_page_4.png      |    2481 |     3508 |        8703348 | 300.00x300.09    | 1      |      52.26 |\n",
      "+-------------------------+---------+----------+----------------+------------------+--------+------------+\n",
      "| PyMuPDF_page_5.png      |    2481 |     3508 |        8703348 | 300.00x300.09    | 1      |      46.24 |\n",
      "+-------------------------+---------+----------+----------------+------------------+--------+------------+\n",
      "| pdf2image_page_1.png    |    2481 |     3508 |        8703348 | 300.00x300.09    | L      |      48.81 |\n",
      "+-------------------------+---------+----------+----------------+------------------+--------+------------+\n",
      "| pdf2image_page_2.png    |    2481 |     3508 |        8703348 | 300.00x300.09    | L      |      43.97 |\n",
      "+-------------------------+---------+----------+----------------+------------------+--------+------------+\n",
      "| pdf2image_page_3.png    |    2481 |     3508 |        8703348 | 300.00x300.09    | L      |      45.25 |\n",
      "+-------------------------+---------+----------+----------------+------------------+--------+------------+\n",
      "| pdf2image_page_4.png    |    2481 |     3508 |        8703348 | 300.00x300.09    | L      |      48.03 |\n",
      "+-------------------------+---------+----------+----------------+------------------+--------+------------+\n",
      "| pdf2image_page_5.png    |    2481 |     3508 |        8703348 | 300.00x300.09    | L      |      41.22 |\n",
      "+-------------------------+---------+----------+----------------+------------------+--------+------------+\n",
      "| pdfium_image_bw_001.png |    2382 |     3368 |        8022576 | 288.03x288.11    | 1      |      56.62 |\n",
      "+-------------------------+---------+----------+----------------+------------------+--------+------------+\n",
      "| pdfium_image_bw_002.png |    2382 |     3368 |        8022576 | 288.03x288.11    | 1      |      50.7  |\n",
      "+-------------------------+---------+----------+----------------+------------------+--------+------------+\n",
      "| pdfium_image_bw_003.png |    2382 |     3368 |        8022576 | 288.03x288.11    | 1      |      51.88 |\n",
      "+-------------------------+---------+----------+----------------+------------------+--------+------------+\n",
      "| pdfium_image_bw_004.png |    2382 |     3368 |        8022576 | 288.03x288.11    | 1      |      52.97 |\n",
      "+-------------------------+---------+----------+----------------+------------------+--------+------------+\n",
      "| pdfium_image_bw_005.png |    2382 |     3368 |        8022576 | 288.03x288.11    | 1      |      46.73 |\n",
      "+-------------------------+---------+----------+----------------+------------------+--------+------------+\n",
      "| wand_image-1.png        |    2480 |     3508 |        8699840 | 299.88x300.09    | RGBA   |      79.75 |\n",
      "+-------------------------+---------+----------+----------------+------------------+--------+------------+\n",
      "| wand_image-2.png        |    2480 |     3508 |        8699840 | 299.88x300.09    | RGBA   |     105.41 |\n",
      "+-------------------------+---------+----------+----------------+------------------+--------+------------+\n",
      "| wand_image-3.png        |    2480 |     3508 |        8699840 | 299.88x300.09    | RGBA   |      77.51 |\n",
      "+-------------------------+---------+----------+----------------+------------------+--------+------------+\n",
      "| wand_image-4.png        |    2480 |     3508 |        8699840 | 299.88x300.09    | RGBA   |      99.54 |\n",
      "+-------------------------+---------+----------+----------------+------------------+--------+------------+\n",
      "| wand_image-5.png        |    2480 |     3508 |        8699840 | 299.88x300.09    | RGBA   |      71.5  |\n",
      "+-------------------------+---------+----------+----------------+------------------+--------+------------+\n"
     ]
    }
   ],
   "source": [
    "import os\n",
    "from PIL import Image, ImageStat\n",
    "from tabulate import tabulate\n",
    "\n",
    "# Known physical page size in inches (A4)\n",
    "PAGE_WIDTH_INCH = 8.27\n",
    "PAGE_HEIGHT_INCH = 11.69\n",
    "\n",
    "def analyze_image(image_path):\n",
    "    with Image.open(image_path) as img:\n",
    "        width, height = img.size\n",
    "        mode = img.mode\n",
    "\n",
    "        # Calculate DPI from pixels and physical size\n",
    "        dpi_x = width / PAGE_WIDTH_INCH\n",
    "        dpi_y = height / PAGE_HEIGHT_INCH\n",
    "        dpi_str = f\"{dpi_x:.2f}x{dpi_y:.2f}\"\n",
    "\n",
    "        # Calculate contrast from grayscale stddev\n",
    "        grayscale = img.convert('L')\n",
    "        stat = ImageStat.Stat(grayscale)\n",
    "        contrast = stat.stddev[0]\n",
    "        total_pixels = width * height\n",
    "\n",
    "        return {\n",
    "            \"File\": os.path.basename(image_path),\n",
    "            \"Width\": width,\n",
    "            \"Height\": height,\n",
    "            \"Total Pixels\": total_pixels,\n",
    "            \"Calculated DPI\": dpi_str,\n",
    "            \"Mode\": mode,\n",
    "            \"Contrast\": round(contrast, 2)\n",
    "        }\n",
    "\n",
    "def batch_check_images(folder):\n",
    "    results = []\n",
    "    for filename in sorted(os.listdir(folder)):\n",
    "        if filename.lower().endswith(\".png\"):\n",
    "            path = os.path.join(folder, filename)\n",
    "            info = analyze_image(path)\n",
    "            results.append(info)\n",
    "\n",
    "    print(tabulate(results, headers=\"keys\", tablefmt=\"grid\"))\n",
    "\n",
    "# Run the check\n",
    "batch_check_images(\"task1b_images/\")\n"
   ]
  },
  {
   "cell_type": "markdown",
   "id": "1bd24552",
   "metadata": {},
   "source": [
    "### Third-party Performance Check: "
   ]
  },
  {
   "cell_type": "code",
   "execution_count": null,
   "id": "fe8a67f6",
   "metadata": {},
   "outputs": [
    {
     "name": "stdout",
     "output_type": "stream",
     "text": [
      "Requirement already satisfied: scalene in ./.venv/lib/python3.12/site-packages (1.5.51)\n",
      "Requirement already satisfied: wheel>=0.36.1 in ./.venv/lib/python3.12/site-packages (from scalene) (0.45.1)\n",
      "Requirement already satisfied: rich>=10.7.0 in ./.venv/lib/python3.12/site-packages (from scalene) (14.0.0)\n",
      "Requirement already satisfied: cloudpickle>=2.2.1 in ./.venv/lib/python3.12/site-packages (from scalene) (3.1.1)\n",
      "Requirement already satisfied: nvidia-ml-py>=12.555.43 in ./.venv/lib/python3.12/site-packages (from scalene) (12.575.51)\n",
      "Requirement already satisfied: Jinja2>=3.0.3 in ./.venv/lib/python3.12/site-packages (from scalene) (3.1.6)\n",
      "Requirement already satisfied: psutil>=5.9.2 in ./.venv/lib/python3.12/site-packages (from scalene) (7.0.0)\n",
      "Requirement already satisfied: numpy!=1.27,>=1.24.0 in ./.venv/lib/python3.12/site-packages (from scalene) (2.2.6)\n",
      "Requirement already satisfied: pydantic>=2.6 in ./.venv/lib/python3.12/site-packages (from scalene) (2.11.5)\n",
      "Requirement already satisfied: MarkupSafe>=2.0 in ./.venv/lib/python3.12/site-packages (from Jinja2>=3.0.3->scalene) (3.0.2)\n",
      "Requirement already satisfied: annotated-types>=0.6.0 in ./.venv/lib/python3.12/site-packages (from pydantic>=2.6->scalene) (0.7.0)\n",
      "Requirement already satisfied: pydantic-core==2.33.2 in ./.venv/lib/python3.12/site-packages (from pydantic>=2.6->scalene) (2.33.2)\n",
      "Requirement already satisfied: typing-extensions>=4.12.2 in ./.venv/lib/python3.12/site-packages (from pydantic>=2.6->scalene) (4.13.2)\n",
      "Requirement already satisfied: typing-inspection>=0.4.0 in ./.venv/lib/python3.12/site-packages (from pydantic>=2.6->scalene) (0.4.1)\n",
      "Requirement already satisfied: markdown-it-py>=2.2.0 in ./.venv/lib/python3.12/site-packages (from rich>=10.7.0->scalene) (3.0.0)\n",
      "Requirement already satisfied: pygments<3.0.0,>=2.13.0 in ./.venv/lib/python3.12/site-packages (from rich>=10.7.0->scalene) (2.19.1)\n",
      "Requirement already satisfied: mdurl~=0.1 in ./.venv/lib/python3.12/site-packages (from markdown-it-py>=2.2.0->rich>=10.7.0->scalene) (0.1.2)\n",
      "Note: you may need to restart the kernel to use updated packages.\n"
     ]
    }
   ],
   "source": [
    "%pip install -U scalene"
   ]
  },
  {
   "cell_type": "markdown",
   "id": "6f1df4e6",
   "metadata": {},
   "source": [
    "How to get a report:\n",
    "\n",
    "\n",
    "> **WARNING**: Remember to run this entire notebook to download the needed libraries.\n",
    "\n",
    "- CTRL + SHIFT + P\n",
    "- Open terminal --> Bash\n",
    "- cd to /RESEARCH/task1b_images/\n",
    "- on the terminal: \n",
    "```bash\n",
    "scalene --cpu --memory pdfToImageReport.py\n",
    "```\n",
    "- Will open the report on your browser. \n"
   ]
  },
  {
   "cell_type": "markdown",
   "id": "91e0d43d",
   "metadata": {},
   "source": [
    "\n",
    "My Report\n",
    "\n",
    "I used the command line format and sent the output to a txt file:\n",
    "[pdfToImageReport](./task1b_images/pdfToImageReport.txt)\n",
    "\n",
    "\n",
    "In order to get this I did: \n",
    "- CTRL + SHIFT + P\n",
    "- Open terminal --> Bash\n",
    "- cd to /RESEARCH/task1b_images/\n",
    "- on the terminal : \n",
    "```bash\n",
    "scalene --cpu --memory --cli --column-width 6000 --outfile=pdfToImageReport.txt pdfToImageReport.py\n",
    "```\n",
    "\n",
    "My Report on HTML\n",
    "\n",
    "In order to get this I did: \n",
    "- CTRL + SHIFT + P\n",
    "- Open terminal --> Bash\n",
    "- cd to /RESEARCH/task1b_images/\n",
    "- on the terminal : \n",
    "```bash\n",
    "scalene --cpu --memory --outfile=pdfToImageReport.html pdfToImageReport.py\n",
    "```\n",
    "- on the same terminal: \n",
    "```bash\n",
    "xdg-open pdfToImageReport.html     #Linux\n",
    "open pdfToImageReport.html         #MacOS\n",
    "explorer.exe pdfToImageReport.html #Windows\n",
    "```\n",
    "- The report will open in your browser. If you get an installation error, type in your bash terminal or in a python snippet in the notebook the command they request. "
   ]
  },
  {
   "cell_type": "markdown",
   "id": "0c114887",
   "metadata": {},
   "source": [
    "> **Warning**: The statistics depend on your machine, run various tests to see if things make sense. "
   ]
  },
  {
   "cell_type": "markdown",
   "id": "046416d7",
   "metadata": {},
   "source": [
    "[Return to the top](#Task-1b-Turning-a-pdf-into-an-image)"
   ]
  }
 ],
 "metadata": {
  "kernelspec": {
   "display_name": ".venv",
   "language": "python",
   "name": ".venv"
  },
  "language_info": {
   "codemirror_mode": {
    "name": "ipython",
    "version": 3
   },
   "file_extension": ".py",
   "mimetype": "text/x-python",
   "name": "python",
   "nbconvert_exporter": "python",
   "pygments_lexer": "ipython3",
   "version": "3.13.3"
  }
 },
 "nbformat": 4,
 "nbformat_minor": 5
}
